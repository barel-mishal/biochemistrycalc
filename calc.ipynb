{
 "cells": [
  {
   "cell_type": "markdown",
   "metadata": {},
   "source": [
    "# מחשבון לביוכימיה חומצות שומן"
   ]
  },
  {
   "cell_type": "markdown",
   "metadata": {},
   "source": [
    "פונקציה עבור חומצת שומן לא רוויה"
   ]
  },
  {
   "cell_type": "code",
   "execution_count": 16,
   "metadata": {},
   "outputs": [],
   "source": [
    "def fatty_acid(R):\n",
    "    sub2 = -2\n",
    "    x = R/2\n",
    "    NADH = 2.5 * (x-1)\n",
    "    FADH2 = 1.5 * (x-1)\n",
    "    AcoA = 10 * x\n",
    "    the_sum = [sub2,NADH,FADH2,AcoA]\n",
    "    return sum(the_sum)"
   ]
  },
  {
   "cell_type": "code",
   "execution_count": 17,
   "metadata": {},
   "outputs": [
    {
     "data": {
      "text/plain": [
       "120.0"
      ]
     },
     "execution_count": 17,
     "metadata": {},
     "output_type": "execute_result"
    }
   ],
   "source": [
    "fatty_acid(18)"
   ]
  },
  {
   "cell_type": "markdown",
   "metadata": {},
   "source": [
    "כל מה שלעיל ישמש אותנו עכשיו ליצור פונקציות נוספות עבור הסוגים השונים של חומצות השומן"
   ]
  },
  {
   "cell_type": "code",
   "execution_count": 58,
   "metadata": {},
   "outputs": [],
   "source": [
    "def oddfa(odd_R):\n",
    "    # fa\n",
    "    sub2 = -2\n",
    "    x = (odd_R-3)/2\n",
    "    NADH = 2.5 * x\n",
    "    FADH2 = 1.5 * x\n",
    "    AcoA = 10 * x\n",
    "    # succinyl coa \n",
    "    sGTP = 1\n",
    "    sFADH = 1.5\n",
    "    sNADH = 2.5\n",
    "    two_round_ox = 20\n",
    "    the_sum = [sub2,NADH,FADH2,AcoA,sGTP,sFADH,sNADH,two_round_ox]\n",
    "    return sum(the_sum)\n",
    "    "
   ]
  },
  {
   "cell_type": "code",
   "execution_count": 59,
   "metadata": {},
   "outputs": [
    {
     "data": {
      "text/plain": [
       "135.0"
      ]
     },
     "execution_count": 59,
     "metadata": {},
     "output_type": "execute_result"
    }
   ],
   "source": [
    "oddfa(19)"
   ]
  },
  {
   "cell_type": "markdown",
   "metadata": {},
   "source": [
    "עד עכשיו יצרתי פונקציות עבור חומצת שומן זוגית ואי זוגית כאשר הן רוויות עכשיו אצור פונקציה  עבור חומצות שומן לא רוויות כאשר במצבים \n",
    "השונים שלהן לאחר מכן אצור פונקציה לחומצות שומן ארוכות \n",
    "\n",
    "18:3^5,8"
   ]
  },
  {
   "cell_type": "code",
   "execution_count": 64,
   "metadata": {},
   "outputs": [
    {
     "data": {
      "text/plain": [
       "159.0"
      ]
     },
     "execution_count": 64,
     "metadata": {},
     "output_type": "execute_result"
    }
   ],
   "source": [
    "import re\n",
    "def fa_non_sutar(fa_nomenclature):\n",
    "    listy = re.split(r'[(:^,)]', fa_nomenclature)\n",
    "    if int(listy[0])%2 == 0:\n",
    "        n = fatty_acid(int(listy[0]))\n",
    "    if int(listy[0])%2 != 0:\n",
    "        n = oddfa(int(listy[0]))\n",
    "    stu = 0\n",
    "    for i in listy[2:]:\n",
    "        if int(i)%2 == 0:\n",
    "            i += 0\n",
    "        elif int(i)%2 != 0:\n",
    "            stu -= 1.5\n",
    "    the_sum = [n, stu]\n",
    "    return sum(the_sum)\n",
    "fa_non_sutar(\"24:3^5,9\")"
   ]
  },
  {
   "cell_type": "code",
   "execution_count": null,
   "metadata": {},
   "outputs": [],
   "source": []
  }
 ],
 "metadata": {
  "kernelspec": {
   "display_name": "Python 3",
   "language": "python",
   "name": "python3"
  },
  "language_info": {
   "codemirror_mode": {
    "name": "ipython",
    "version": 3
   },
   "file_extension": ".py",
   "mimetype": "text/x-python",
   "name": "python",
   "nbconvert_exporter": "python",
   "pygments_lexer": "ipython3",
   "version": "3.8.1"
  }
 },
 "nbformat": 4,
 "nbformat_minor": 4
}
